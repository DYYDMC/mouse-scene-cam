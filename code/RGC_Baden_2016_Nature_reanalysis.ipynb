{
 "cells": [
  {
   "cell_type": "markdown",
   "metadata": {},
   "source": [
    "This script is used to do some analysis using RGC data in the paper (Baden, 2016, Nature)."
   ]
  },
  {
   "cell_type": "code",
   "execution_count": 1,
   "metadata": {},
   "outputs": [],
   "source": [
    "import numpy as np\n",
    "import matplotlib.pyplot as plt\n",
    "from matplotlib.ticker import FormatStrFormatter\n",
    "import cv2\n",
    "import glob\n",
    "import h5py\n",
    "from skimage.morphology import disk\n",
    "from scipy.stats import pearsonr\n",
    "from scipy.ndimage import gaussian_filter\n",
    "import scipy.io\n",
    "%matplotlib inline \n",
    "%load_ext autoreload\n",
    "%autoreload 2"
   ]
  },
  {
   "cell_type": "code",
   "execution_count": 2,
   "metadata": {},
   "outputs": [],
   "source": [
    "# for plot figures\n",
    "plt.rcParams['svg.fonttype'] = 'none'\n",
    "def adjust_spines(ax, spines):\n",
    "    for loc, spine in ax.spines.items():\n",
    "        if loc in spines:\n",
    "            spine.set_position(('outward', 2))  \n",
    "        else:\n",
    "            spine.set_color('none')  \n",
    "    if 'left' in spines:\n",
    "        ax.yaxis.set_ticks_position('left')\n",
    "    else:\n",
    "        ax.yaxis.set_ticks([])\n",
    "    if 'bottom' in spines:\n",
    "        ax.xaxis.set_ticks_position('bottom')\n",
    "    else:\n",
    "        ax.xaxis.set_ticks([])"
   ]
  },
  {
   "cell_type": "code",
   "execution_count": 4,
   "metadata": {},
   "outputs": [
    {
     "name": "stdout",
     "output_type": "stream",
     "text": [
      "dict_keys(['bar_qi', '__version__', 'cell_oo_idx', 'cell_op', 'noise_trace', 'chirp_avg', 'noise_time', 'c2g', 'sel_idx', 'ans', '__globals__', 'cell_area', 'offsets', 'color_byrepeat', 'rf_size', 'genetics_pv', 'chirp_byrepeat', 'immuno_smi', 'bar_byrepeat', 'bar_tc', 'noise_stim', 'cell_dp', 'color_avg', 'rois', 'rf_qi', 'immuno_melanopsin', 'cell_ff_idx', 'rf_gauss_mean', 'cell_volume', 'cell_id', 'structural', 'color_time', 'group_idx', '__header__', 'cell_osi', 'color_qi', 'genetics_pcp', 'rf_tc', 'chirp_scaling', 'chirp_time', 'cluster_idx', 'chirp_stim', 'bar_time', 'immuno_gad', 'rf_time', 'immuno_chat', 'rf_gauss_std', 'chirp_qi', 'cell_dsi', 'chirp_stim_time', 'rf_map'])\n"
     ]
    }
   ],
   "source": [
    "#load data\n",
    "data_name = \"data/BadenEtAl_RGCs_2016_v1.mat\"\n",
    "rgcdata=scipy.io.loadmat(data_name)\n",
    "print (rgcdata.keys())"
   ]
  },
  {
   "cell_type": "markdown",
   "metadata": {},
   "source": [
    "### Analysis\n",
    "\n",
    "group index 1-9 and 31 and 32: OFF\n",
    "\n",
    "group index 15-30: ON\n",
    "\n",
    "rf_qi>0.2, rf_size>50 and <450\n",
    "\n",
    "then use the corresponding onoff index"
   ]
  },
  {
   "cell_type": "code",
   "execution_count": 5,
   "metadata": {},
   "outputs": [
    {
     "name": "stdout",
     "output_type": "stream",
     "text": [
      "shape of group_idx:(11210,)\n",
      "shape of rf_qi:(11210,)\n",
      "shape of rf_size:(11210,)\n",
      "shape of cell_oo_idx:(11210,)\n"
     ]
    }
   ],
   "source": [
    "group_idx=rgcdata['group_idx'].flatten()#group number\n",
    "rf_qi=rgcdata['rf_qi'].flatten()\n",
    "rf_size=rgcdata['rf_size'].flatten()#RF diamter (2 sd of gaussian)\n",
    "cell_oo_idx=rgcdata['cell_oo_idx'].flatten()#onoff index\n",
    "print ('shape of group_idx:{}'.format(group_idx.shape))\n",
    "print ('shape of rf_qi:{}'.format(rf_qi.shape))\n",
    "print ('shape of rf_size:{}'.format(rf_size.shape))\n",
    "print ('shape of cell_oo_idx:{}'.format(cell_oo_idx.shape))"
   ]
  },
  {
   "cell_type": "code",
   "execution_count": 6,
   "metadata": {},
   "outputs": [
    {
     "name": "stdout",
     "output_type": "stream",
     "text": [
      "shape of onoffcells:(2380, 2)\n",
      "shape of onoffcells:(2380, 2)\n",
      "shape of oncells_size:(1036,)\n",
      "shape of offcells_size:(1344,)\n",
      "shape of onoffcells_ooi:(2380, 2)\n"
     ]
    }
   ],
   "source": [
    "oncells_group_idx=[]\n",
    "oncells_size=[]\n",
    "offcells_group_idx=[]\n",
    "offcells_size=[]\n",
    "onoffcells=[]#on:1, off:-1 and RF size\n",
    "onoffcells_group=[]#group index and RF size\n",
    "onoffcells_ooi=[]#onoff index and RF size for all cells\n",
    "oncells_ooi   =[]#onoff index and RF size for ON cells\n",
    "offcells_ooi  =[]#onoff index and RF size for OFF cells\n",
    "\n",
    "on_group_idx=np.arange(15,31)\n",
    "on_group_idx=list(on_group_idx)\n",
    "off_group_idx=np.arange(1,10)\n",
    "off_group_idx=list(off_group_idx)\n",
    "off_group_idx.append(31)\n",
    "off_group_idx.append(32)\n",
    "\n",
    "for ii in range(len(rf_size)):\n",
    "    if rf_size[ii]<450 and rf_size[ii]>50 and rf_qi[ii]>0.2:\n",
    "        if group_idx[ii] in on_group_idx:\n",
    "            oncells_group_idx.append(group_idx[ii])\n",
    "            oncells_size.append(rf_size[ii])\n",
    "            onoffcells.append(np.array([1,rf_size[ii]]))\n",
    "            onoffcells_group.append(np.array([group_idx[ii],rf_size[ii]]))\n",
    "            onoffcells_ooi.append(np.array([cell_oo_idx[ii],rf_size[ii]]))\n",
    "            oncells_ooi.append(np.array([cell_oo_idx[ii],rf_size[ii]]))\n",
    "        if group_idx[ii] in off_group_idx:\n",
    "            offcells_group_idx.append(group_idx[ii])\n",
    "            offcells_size.append(rf_size[ii])\n",
    "            onoffcells.append(np.array([-1,rf_size[ii]]))\n",
    "            onoffcells_group.append(np.array([group_idx[ii],rf_size[ii]]))\n",
    "            onoffcells_ooi.append(np.array([cell_oo_idx[ii],rf_size[ii]]))\n",
    "            offcells_ooi.append(np.array([cell_oo_idx[ii],rf_size[ii]]))\n",
    "\n",
    "onoffcells=np.array(onoffcells)\n",
    "onoffcells_group=np.array(onoffcells_group)\n",
    "oncells_size=np.array(oncells_size)\n",
    "offcells_size=np.array(offcells_size)\n",
    "onoffcells_ooi=np.array(onoffcells_ooi)\n",
    "oncells_ooi   =np.array(oncells_ooi)\n",
    "offcells_ooi  =np.array(offcells_ooi)\n",
    "\n",
    "print ('shape of onoffcells:{}'.format(onoffcells.shape))\n",
    "print ('shape of onoffcells:{}'.format(onoffcells.shape))\n",
    "print ('shape of oncells_size:{}'.format(oncells_size.shape))\n",
    "print ('shape of offcells_size:{}'.format(offcells_size.shape))\n",
    "print ('shape of onoffcells_ooi:{}'.format(onoffcells_ooi.shape))"
   ]
  },
  {
   "cell_type": "code",
   "execution_count": 7,
   "metadata": {},
   "outputs": [
    {
     "data": {
      "image/png": "[encoded data removed]",
      "text/plain": [
       "<Figure size 216x216 with 1 Axes>"
      ]
     },
     "metadata": {
      "needs_background": "light"
     },
     "output_type": "display_data"
    }
   ],
   "source": [
    "#plot onoff index histogram\n",
    "xmax=1.0\n",
    "xmin=-1.0\n",
    "log_flag=False \n",
    "weights = np.ones_like(onoffcells_ooi[:,0])/float(len(onoffcells_ooi[:,0]))\n",
    "\n",
    "fig, axes = plt.subplots(nrows=1, ncols=1,figsize=(3,3))\n",
    "axes.hist(onoffcells_ooi[:,0], bins=16,color='gray',range=[xmin,xmax],\\\n",
    "               weights=weights,log=log_flag)\n",
    "axes.set_yticks([0,0.1])\n",
    "axes.set_xlabel('Onoff index', fontsize=16)\n",
    "axes.set_ylabel('Probability', fontsize=16)\n",
    "adjust_spines(axes, ['left', 'bottom'])\n",
    "plt.tight_layout()"
   ]
  },
  {
   "cell_type": "code",
   "execution_count": 8,
   "metadata": {},
   "outputs": [
    {
     "name": "stdout",
     "output_type": "stream",
     "text": [
      "1036\n"
     ]
    },
    {
     "data": {
      "image/png": "[encoded data removed]",
      "text/plain": [
       "<Figure size 216x216 with 1 Axes>"
      ]
     },
     "metadata": {
      "needs_background": "light"
     },
     "output_type": "display_data"
    }
   ],
   "source": [
    "#plot onoff index histogram for on cells\n",
    "xmax=1.0\n",
    "xmin=-1.0\n",
    "log_flag=False #log scale histogram if it is True\n",
    "weights = np.ones_like(oncells_ooi[:,0])/float(len(oncells_ooi[:,0]))\n",
    "print (len(oncells_ooi))\n",
    "fig, axes = plt.subplots(nrows=1, ncols=1,figsize=(3,3))\n",
    "axes.hist(oncells_ooi[:,0], bins=16,color='gray',range=[xmin,xmax],\\\n",
    "               weights=weights,log=log_flag)\n",
    "axes.set_yticks([0,0.1])\n",
    "axes.set_xlabel('Onoff index', fontsize=16)\n",
    "axes.set_ylabel('Probability', fontsize=16)\n",
    "adjust_spines(axes, ['left', 'bottom'])\n",
    "plt.tight_layout()"
   ]
  },
  {
   "cell_type": "code",
   "execution_count": 9,
   "metadata": {},
   "outputs": [
    {
     "name": "stdout",
     "output_type": "stream",
     "text": [
      "1344\n"
     ]
    },
    {
     "data": {
      "image/png": "[encoded data removed]",
      "text/plain": [
       "<Figure size 216x216 with 1 Axes>"
      ]
     },
     "metadata": {
      "needs_background": "light"
     },
     "output_type": "display_data"
    }
   ],
   "source": [
    "#plot onoff index histogram for off cells\n",
    "xmax=1.0\n",
    "xmin=-1.0\n",
    "log_flag=False #log scale histogram if it is True\n",
    "weights = np.ones_like(offcells_ooi[:,0])/float(len(offcells_ooi[:,0]))\n",
    "print (len(offcells_ooi))\n",
    "fig, axes = plt.subplots(nrows=1, ncols=1,figsize=(3,3))\n",
    "axes.hist(offcells_ooi[:,0], bins=16,color='gray',range=[xmin,xmax],\\\n",
    "               weights=weights,log=log_flag)\n",
    "axes.set_yticks([0,0.1])\n",
    "axes.set_xlabel('Onoff index', fontsize=16)\n",
    "axes.set_ylabel('Probability', fontsize=16)\n",
    "adjust_spines(axes, ['left', 'bottom'])\n",
    "plt.tight_layout()"
   ]
  },
  {
   "cell_type": "code",
   "execution_count": null,
   "metadata": {},
   "outputs": [],
   "source": []
  },
  {
   "cell_type": "code",
   "execution_count": 11,
   "metadata": {},
   "outputs": [
    {
     "data": {
      "image/png": "[encoded data removed]",
      "text/plain": [
       "<Figure size 216x216 with 2 Axes>"
      ]
     },
     "metadata": {
      "needs_background": "light"
     },
     "output_type": "display_data"
    }
   ],
   "source": [
    "#plot 2d histogram of onoff index and rf size\n",
    "xmax=450\n",
    "xmin=30 \n",
    "ymax=1.0\n",
    "ymin=-1.0\n",
    "weights = np.ones_like(onoffcells_ooi[:,1])/float(len(onoffcells_ooi[:,1]))\n",
    "rfsize_ooidx=np.zeros((64,64))\n",
    "\n",
    "rfsize_ooidx,_,_=np.histogram2d(onoffcells_ooi[:,1], \\\n",
    "                                onoffcells_ooi[:,0], \\\n",
    "                                bins=64,range=[[xmin,xmax],[ymin,ymax]],weights=weights)\n",
    "rfsize_ooidx=np.log10(rfsize_ooidx+1e-6)\n",
    "rfsize_ooidx=rfsize_ooidx.T\n",
    "H_max=-2 \n",
    "H_min=-6 \n",
    "fig, axes = plt.subplots(nrows=1, ncols=1,figsize=(3,3))\n",
    "im=axes.imshow(rfsize_ooidx, interpolation='nearest', origin='low',cmap='jet',vmin=H_min, vmax=H_max)\n",
    "labels = ['2','6','10','14']\n",
    "axes.set_xticks([4.5,22.5,40.5,58.5]) # 0: 30um, 63:450um, \n",
    "axes.set_xticklabels(labels)\n",
    "labels = [float(\"{0:.1f}\".format(ymin)),float(\"{0:.1f}\".format(ymax))]\n",
    "axes.set_yticks([0,63])\n",
    "axes.set_yticklabels(labels)\n",
    "axes.axhline(y=31.5,color='k',linewidth=2)\n",
    "axes.set_xlabel('RF size', fontsize=16)\n",
    "axes.set_ylabel('Onoff index', fontsize=16)\n",
    "#\n",
    "fig.subplots_adjust(right=0.8)\n",
    "cbar_ax = fig.add_axes([0.85, 0.3, 0.03, 0.5])\n",
    "ticks=[-2,-4,-6]\n",
    "fig.colorbar(im, cax=cbar_ax,ticks=ticks,format=\"%d\")\n",
    "handles, labels = axes.get_legend_handles_labels()\n",
    "lgd = axes.legend(handles, labels, loc='center left', bbox_to_anchor=(1, 0.5))"
   ]
  },
  {
   "cell_type": "code",
   "execution_count": 12,
   "metadata": {
    "scrolled": true
   },
   "outputs": [
    {
     "data": {
      "image/png": "[encoded data removed]",
      "text/plain": [
       "<Figure size 216x216 with 2 Axes>"
      ]
     },
     "metadata": {
      "needs_background": "light"
     },
     "output_type": "display_data"
    }
   ],
   "source": [
    "#plot 2d histogram of onoff index and rf size, ON cells\n",
    "xmax=450\n",
    "xmin=30 # 50\n",
    "ymax=1.0\n",
    "ymin=-1.0\n",
    "\n",
    "weights = np.ones_like(oncells_ooi[:,1])/float(len(oncells_ooi[:,1]))\n",
    "rfsize_ooidx=np.zeros((64,64))\n",
    "\n",
    "rfsize_ooidx,_,_=np.histogram2d(oncells_ooi[:,1], \\\n",
    "                                oncells_ooi[:,0], \\\n",
    "                                bins=64,range=[[xmin,xmax],[ymin,ymax]],weights=weights)\n",
    "rfsize_ooidx=np.log10(rfsize_ooidx+1e-6)\n",
    "rfsize_ooidx=rfsize_ooidx.T\n",
    "H_max=-2 \n",
    "H_min=-6 \n",
    "fig, axes = plt.subplots(nrows=1, ncols=1,figsize=(3,3))\n",
    "im=axes.imshow(rfsize_ooidx, interpolation='nearest', origin='low',cmap='jet',vmin=H_min, vmax=H_max)\n",
    "labels = ['2','6','10','14']\n",
    "axes.set_xticks([4.5,22.5,40.5,58.5]) \n",
    "axes.set_xticklabels(labels)\n",
    "labels = [float(\"{0:.1f}\".format(ymin)),float(\"{0:.1f}\".format(ymax))]\n",
    "axes.set_yticks([0,63])\n",
    "axes.set_yticklabels(labels)\n",
    "axes.axhline(y=31.5,color='white',linestyle='--')\n",
    "axes.set_xlabel('RF size', fontsize=16)\n",
    "axes.set_ylabel('Onoff index', fontsize=16)\n",
    "#\n",
    "fig.subplots_adjust(right=0.8)\n",
    "cbar_ax = fig.add_axes([0.85, 0.3, 0.03, 0.5])\n",
    "ticks=[-2,-4,-6]\n",
    "fig.colorbar(im, cax=cbar_ax,ticks=ticks,format=\"%d\")\n",
    "handles, labels = axes.get_legend_handles_labels()\n",
    "lgd = axes.legend(handles, labels, loc='center left', bbox_to_anchor=(1, 0.5))"
   ]
  },
  {
   "cell_type": "code",
   "execution_count": 13,
   "metadata": {},
   "outputs": [
    {
     "data": {
      "image/png": "[encoded data removed]",
      "text/plain": [
       "<Figure size 216x216 with 2 Axes>"
      ]
     },
     "metadata": {
      "needs_background": "light"
     },
     "output_type": "display_data"
    }
   ],
   "source": [
    "#plot 2d histogram of onoff index and rf size, OFF cells\n",
    "xmax=450\n",
    "xmin=30 \n",
    "ymax=1.0\n",
    "ymin=-1.0\n",
    "weights = np.ones_like(offcells_ooi[:,1])/float(len(offcells_ooi[:,1]))\n",
    "rfsize_ooidx=np.zeros((64,64))\n",
    "\n",
    "rfsize_ooidx,_,_=np.histogram2d(offcells_ooi[:,1], \\\n",
    "                                offcells_ooi[:,0], \\\n",
    "                                bins=64,range=[[xmin,xmax],[ymin,ymax]],weights=weights)\n",
    "rfsize_ooidx=np.log10(rfsize_ooidx+1e-6)\n",
    "rfsize_ooidx=rfsize_ooidx.T\n",
    "H_max=-2 \n",
    "H_min=-6 \n",
    "fig, axes = plt.subplots(nrows=1, ncols=1,figsize=(3,3))\n",
    "im=axes.imshow(rfsize_ooidx, interpolation='nearest', origin='low',cmap='jet',vmin=H_min, vmax=H_max)\n",
    "labels = ['2','6','10','14']\n",
    "axes.set_xticks([4.5,22.5,40.5,58.5]) \n",
    "axes.set_xticklabels(labels)\n",
    "labels = [float(\"{0:.1f}\".format(ymin)),float(\"{0:.1f}\".format(ymax))]\n",
    "axes.set_yticks([0,63])\n",
    "axes.set_yticklabels(labels)\n",
    "axes.axhline(y=31.5,color='white',linestyle='--')\n",
    "axes.set_xlabel('RF size', fontsize=16)\n",
    "axes.set_ylabel('Onoff index', fontsize=16)\n",
    "#\n",
    "fig.subplots_adjust(right=0.8)\n",
    "cbar_ax = fig.add_axes([0.85, 0.3, 0.03, 0.5])\n",
    "ticks=[-2,-4,-6]\n",
    "fig.colorbar(im, cax=cbar_ax,ticks=ticks,format=\"%d\")\n",
    "handles, labels = axes.get_legend_handles_labels()\n",
    "lgd = axes.legend(handles, labels, loc='center left', bbox_to_anchor=(1, 0.5))"
   ]
  },
  {
   "cell_type": "code",
   "execution_count": null,
   "metadata": {},
   "outputs": [],
   "source": []
  },
  {
   "cell_type": "code",
   "execution_count": 14,
   "metadata": {},
   "outputs": [
    {
     "data": {
      "image/png": "[encoded data removed]",
      "text/plain": [
       "<Figure size 216x216 with 1 Axes>"
      ]
     },
     "metadata": {
      "needs_background": "light"
     },
     "output_type": "display_data"
    }
   ],
   "source": [
    "#plot OFF/ON as RF size\n",
    "#sort cells as RF size\n",
    "temp=np.argsort(onoffcells_ooi[:,1])\n",
    "onoffcells_ooi_sorted=onoffcells_ooi[temp][:2376]\n",
    "onoffcells_sorted    =onoffcells[temp][:2376]#on:1, off:-1 and RF size\n",
    "num=6\n",
    "delta=int(len(onoffcells_ooi_sorted)/num)\n",
    "OFFtoONs=np.zeros(num)\n",
    "rfsizegroups=np.zeros(num,np.int32)\n",
    "for ii in range(num):\n",
    "    temp1=onoffcells_ooi_sorted[ii*delta:ii*delta+delta,0]#onoff index\n",
    "    temp2=onoffcells_ooi_sorted[ii*delta:ii*delta+delta,1]#rf size\n",
    "    OFFtoONs[ii]=len(np.where(temp1<0)[0])/len(np.where(temp1>0)[0])\n",
    "    rfsizegroups[ii]=int(np.median(temp2))\n",
    "#\n",
    "fig, ax = plt.subplots(nrows=1, ncols=1,figsize=(3,3))\n",
    "ax.plot(rfsizegroups,OFFtoONs,'o',color='k',linestyle='-')\n",
    "ax.set_xticks([6*30,8*30,10*30])\n",
    "ax.set_yticks([0,1,2])\n",
    "ax.set_xlabel('RF size (um)', fontsize=16)\n",
    "ax.set_ylabel('OFF/ON', fontsize=16)\n",
    "adjust_spines(ax, ['left', 'bottom'])\n",
    "plt.tight_layout()"
   ]
  },
  {
   "cell_type": "code",
   "execution_count": 15,
   "metadata": {},
   "outputs": [
    {
     "name": "stdout",
     "output_type": "stream",
     "text": [
      "(6, 396)\n",
      "(6, 396)\n"
     ]
    }
   ],
   "source": [
    "#boxplot of onoff index, also for bootstrapping and statistical test\n",
    "Onoff_boxplot=[] #OOi index\n",
    "Onoff_polarity_boxplot=[] #polarity\n",
    "for ii in range(num):\n",
    "    Onoff_boxplot.append(onoffcells_ooi_sorted[ii*delta:ii*delta+delta,0])\n",
    "    Onoff_polarity_boxplot.append(onoffcells_sorted[ii*delta:ii*delta+delta,0])\n",
    "Onoff_boxplot_array=np.array(Onoff_boxplot) #OOi index\n",
    "Onoff_polarity_boxplot_array=np.array(Onoff_polarity_boxplot) #polarity, on:1, off:-1\n",
    "print (Onoff_boxplot_array.shape)\n",
    "print (Onoff_polarity_boxplot_array.shape)"
   ]
  },
  {
   "cell_type": "code",
   "execution_count": 16,
   "metadata": {},
   "outputs": [],
   "source": [
    "#bootstrapping\n",
    "#apply bootstrapping to estimate standard deviation (error)\n",
    "#statistics can be offratios, median, mean\n",
    "#for offratios, be careful with the threshold\n",
    "#data: for statistics offratios, median, mean: numpy array with shape (sample_size,1)\n",
    "#num_exp: number of experiments, with replacement\n",
    "def bootstrap(statistics,data,num_exp=10000,seed=66):\n",
    "    if   statistics == 'offratios':\n",
    "        def func(x): return len(x[np.where(x<0)])/len(x[np.where(x>0)]) #threshold is 0, may be different\n",
    "    elif statistics == 'median':\n",
    "        def func(x): return np.median(x)\n",
    "    elif statistics == 'mean':\n",
    "        def func(x): return np.mean(x)\n",
    "    sta_boot=np.zeros((num_exp))\n",
    "    num_data=len(data)\n",
    "    for ii in range(num_exp):\n",
    "        np.random.seed(seed+ii)\n",
    "        tempind=np.random.choice(num_data,num_data,replace=True)\n",
    "        sta_boot[ii]=func(data[tempind])\n",
    "    return np.percentile(sta_boot,2.5),np.percentile(sta_boot,97.5)"
   ]
  },
  {
   "cell_type": "code",
   "execution_count": 17,
   "metadata": {},
   "outputs": [
    {
     "data": {
      "image/png": "[encoded data removed]",
      "text/plain": [
       "<Figure size 144x216 with 1 Axes>"
      ]
     },
     "metadata": {
      "needs_background": "light"
     },
     "output_type": "display_data"
    }
   ],
   "source": [
    "#plot OFF/ON as RF size with bootstrapping\n",
    "OFFtoONlowqs=np.zeros(len(Onoff_boxplot_array)) #lower_quartile\n",
    "OFFtoONhigqs=np.zeros(len(Onoff_boxplot_array)) #upper_quartile\n",
    "for ii in range(len(OFFtoONlowqs)):\n",
    "    temp=Onoff_boxplot_array[ii]\n",
    "    tempmax=0 \n",
    "    low_perc,high_perc=bootstrap('offratios',temp,num_exp=10000,seed=66)\n",
    "    OFFtoONlowqs[ii]  = OFFtoONs[ii]-low_perc\n",
    "    OFFtoONhigqs[ii]  =-OFFtoONs[ii]+high_perc \n",
    "#\n",
    "#plot\n",
    "fig, ax = plt.subplots(nrows=1, ncols=1,figsize=(2,3))\n",
    "ax.errorbar(rfsizegroups,OFFtoONs,yerr=(OFFtoONlowqs,OFFtoONhigqs),marker='o',color='k',linestyle='-',capsize=4)\n",
    "ax.set_xticks([6*30,8*30,10*30])\n",
    "ax.set_yticks([0,1,2])\n",
    "ax.set_xlabel('RF size (um)', fontsize=16)\n",
    "ax.set_ylabel('OFF/ON', fontsize=16)\n",
    "adjust_spines(ax, ['left', 'bottom'])\n",
    "plt.tight_layout()"
   ]
  },
  {
   "cell_type": "code",
   "execution_count": null,
   "metadata": {},
   "outputs": [],
   "source": []
  },
  {
   "cell_type": "code",
   "execution_count": 18,
   "metadata": {},
   "outputs": [
    {
     "data": {
      "image/png": "[encoded data removed]",
      "text/plain": [
       "<Figure size 216x216 with 1 Axes>"
      ]
     },
     "metadata": {
      "needs_background": "light"
     },
     "output_type": "display_data"
    }
   ],
   "source": [
    "#get the median of onoff index\n",
    "Onoffmedians=np.zeros(num)\n",
    "Onoffmeans=np.zeros(num)\n",
    "rfsizegroups=np.zeros(num,np.int32)\n",
    "for ii in range(num):\n",
    "    temp1=onoffcells_ooi_sorted[ii*delta:ii*delta+delta,0]#onoff index\n",
    "    temp2=onoffcells_ooi_sorted[ii*delta:ii*delta+delta,1]#rf size\n",
    "    Onoffmedians[ii]=np.median(temp1)\n",
    "    Onoffmeans[ii]  =np.mean(temp1)\n",
    "    rfsizegroups[ii]=int(np.median(temp2))\n",
    "#\n",
    "fig, ax = plt.subplots(nrows=1, ncols=1,figsize=(3,3))\n",
    "ax.plot(rfsizegroups,Onoffmedians,'o',color='k',linestyle='-')\n",
    "ax.set_xlabel('RF size (um)', fontsize=16)\n",
    "ax.set_ylabel('Onoff median', fontsize=16)\n",
    "adjust_spines(ax, ['left', 'bottom'])\n",
    "handles, labels = ax.get_legend_handles_labels()\n",
    "lgd = ax.legend(handles, labels, loc='center left', frameon=False,bbox_to_anchor=(1, 0.5))"
   ]
  },
  {
   "cell_type": "code",
   "execution_count": 19,
   "metadata": {},
   "outputs": [
    {
     "data": {
      "image/png": "[encoded data removed]",
      "text/plain": [
       "<Figure size 144x216 with 1 Axes>"
      ]
     },
     "metadata": {
      "needs_background": "light"
     },
     "output_type": "display_data"
    }
   ],
   "source": [
    "#plot median of onoff index with bootstrapping\n",
    "Onofflowqs=np.zeros(len(Onoff_boxplot_array)) #lower_quartile\n",
    "Onoffhigqs=np.zeros(len(Onoff_boxplot_array)) #upper_quartile\n",
    "for ii in range(len(Onofflowqs)):\n",
    "    temp=Onoff_boxplot_array[ii]\n",
    "    low_perc,high_perc=bootstrap('median',temp,num_exp=10000,seed=66)\n",
    "    Onofflowqs[ii]  = Onoffmedians[ii]-low_perc\n",
    "    Onoffhigqs[ii]  =-Onoffmedians[ii]+high_perc \n",
    "#\n",
    "fig, ax = plt.subplots(nrows=1, ncols=1,figsize=(2,3))\n",
    "ax.errorbar(rfsizegroups,Onoffmedians,yerr=(Onofflowqs,Onoffhigqs),marker='o',color='k',linestyle='-',capsize=4)\n",
    "ax.axhline(y=0,color='k',linestyle='--')\n",
    "ax.set_xticks([6*30,8*30,10*30])\n",
    "ax.set_yticks([0.2,0,-0.2,-0.4]) \n",
    "ax.set_xlabel('RF (um)', fontsize=16)\n",
    "ax.set_ylabel('Onoff median', fontsize=16)\n",
    "adjust_spines(ax, ['left', 'bottom'])\n",
    "handles, labels = ax.get_legend_handles_labels()\n",
    "lgd = ax.legend(handles, labels, loc='center left',frameon=False, bbox_to_anchor=(1, 0.5))"
   ]
  },
  {
   "cell_type": "code",
   "execution_count": 20,
   "metadata": {},
   "outputs": [
    {
     "data": {
      "image/png": "[encoded data removed]",
      "text/plain": [
       "<Figure size 144x216 with 1 Axes>"
      ]
     },
     "metadata": {
      "needs_background": "light"
     },
     "output_type": "display_data"
    }
   ],
   "source": [
    "#plot median of onoff index with bootstrapping, ON and OFF separately\n",
    "#ON\n",
    "Onofflowqs_ON  =np.zeros(len(Onoff_boxplot_array)) #lower_quartile\n",
    "Onoffhigqs_ON  =np.zeros(len(Onoff_boxplot_array)) #upper_quartile\n",
    "Onoffmedians_ON=np.zeros(len(Onoff_boxplot_array))\n",
    "for ii in range(len(Onofflowqs_ON)):\n",
    "    temp=Onoff_boxplot_array[ii]\n",
    "    temp=temp[np.where(Onoff_polarity_boxplot_array[ii]>0)] # ON\n",
    "    Onoffmedians_ON[ii]=np.median(temp)\n",
    "    low_perc,high_perc=bootstrap('median',temp,num_exp=10000,seed=66)\n",
    "    Onofflowqs_ON[ii]  = Onoffmedians_ON[ii]-low_perc\n",
    "    Onoffhigqs_ON[ii]  =-Onoffmedians_ON[ii]+high_perc \n",
    "#OFF\n",
    "Onofflowqs_OFF  =np.zeros(len(Onoff_boxplot_array)) #lower_quartile\n",
    "Onoffhigqs_OFF  =np.zeros(len(Onoff_boxplot_array)) #upper_quartile\n",
    "Onoffmedians_OFF=np.zeros(len(Onoff_boxplot_array))\n",
    "for ii in range(len(Onofflowqs_OFF)):\n",
    "    temp=Onoff_boxplot_array[ii]\n",
    "    temp=temp[np.where(Onoff_polarity_boxplot_array[ii]<0)] # OFF\n",
    "    Onoffmedians_OFF[ii]=np.median(temp)\n",
    "    low_perc,high_perc=bootstrap('median',temp,num_exp=10000,seed=66)\n",
    "    Onofflowqs_OFF[ii]  = Onoffmedians_OFF[ii]-low_perc\n",
    "    Onoffhigqs_OFF[ii]  =-Onoffmedians_OFF[ii]+high_perc \n",
    "#\n",
    "fig, ax = plt.subplots(nrows=1, ncols=1,figsize=(2,3))\n",
    "ax.errorbar(rfsizegroups,Onoffmedians_ON,yerr=(Onofflowqs_ON,Onoffhigqs_ON),\\\n",
    "            marker='o',color='k',linestyle='-',capsize=4,label='ON')\n",
    "ax.errorbar(rfsizegroups,Onoffmedians_OFF,yerr=(Onofflowqs_OFF,Onoffhigqs_OFF),\\\n",
    "            marker='o',color='k',linestyle='--',capsize=4,label='OFF')\n",
    "ax.set_xticks([6*30,8*30,10*30])\n",
    "ax.set_yticks([-0.8,-0.4,0,0.4])\n",
    "ax.set_xlabel('RF (um)', fontsize=16)\n",
    "ax.set_ylabel('Onoff median', fontsize=16)\n",
    "adjust_spines(ax, ['left', 'bottom'])\n",
    "handles, labels = ax.get_legend_handles_labels()\n",
    "lgd = ax.legend(handles, labels, loc='center left',frameon=False, bbox_to_anchor=(1, 0.5))"
   ]
  },
  {
   "cell_type": "code",
   "execution_count": null,
   "metadata": {},
   "outputs": [],
   "source": []
  },
  {
   "cell_type": "markdown",
   "metadata": {},
   "source": [
    "### Statistical test"
   ]
  },
  {
   "cell_type": "markdown",
   "metadata": {},
   "source": [
    "#### permutation test"
   ]
  },
  {
   "cell_type": "code",
   "execution_count": 27,
   "metadata": {},
   "outputs": [],
   "source": [
    "#permutation test using monte-carlo method\n",
    "def perm_test(xs, ys, nmc, randomseed):\n",
    "    n, k = len(xs), 0\n",
    "    diff = np.abs(np.mean(xs) - np.mean(ys))\n",
    "    zs = np.concatenate([xs, ys])\n",
    "    for j in range(nmc):\n",
    "        np.random.seed(randomseed+j)\n",
    "        np.random.shuffle(zs)\n",
    "        k += diff < np.abs(np.mean(zs[:n]) - np.mean(zs[n:]))\n",
    "    return k / nmc"
   ]
  },
  {
   "cell_type": "code",
   "execution_count": 42,
   "metadata": {},
   "outputs": [
    {
     "name": "stdout",
     "output_type": "stream",
     "text": [
      "[0.0707, 0.0003, 0.0, 0.0, 0.0, 0.0766, 0.0, 0.0, 0.0, 0.0184, 0.0108, 0.0015, 0.8751, 0.4753, 0.5854]\n"
     ]
    }
   ],
   "source": [
    "perm_res=[]\n",
    "for ii in np.arange(len(Onoff_boxplot)):\n",
    "    for jj in np.arange(ii+1,len(Onoff_boxplot)):\n",
    "        temp=perm_test(Onoff_boxplot[ii], Onoff_boxplot[jj], 10000, ii*jj+jj+100)\n",
    "        perm_res.append(temp)\n",
    "print(perm_res)"
   ]
  },
  {
   "cell_type": "code",
   "execution_count": null,
   "metadata": {},
   "outputs": [],
   "source": []
  },
  {
   "cell_type": "code",
   "execution_count": null,
   "metadata": {},
   "outputs": [],
   "source": []
  }
 ],
 "metadata": {
  "kernelspec": {
   "display_name": "Python 3",
   "language": "python",
   "name": "python3"
  },
  "language_info": {
   "codemirror_mode": {
    "name": "ipython",
    "version": 3
   },
   "file_extension": ".py",
   "mimetype": "text/x-python",
   "name": "python",
   "nbconvert_exporter": "python",
   "pygments_lexer": "ipython3",
   "version": "3.8.0"
  },
  "varInspector": {
   "cols": {
    "lenName": 16,
    "lenType": 16,
    "lenVar": 40
   },
   "kernels_config": {
    "python": {
     "delete_cmd_postfix": "",
     "delete_cmd_prefix": "del ",
     "library": "var_list.py",
     "varRefreshCmd": "print(var_dic_list())"
    },
    "r": {
     "delete_cmd_postfix": ") ",
     "delete_cmd_prefix": "rm(",
     "library": "var_list.r",
     "varRefreshCmd": "cat(var_dic_list()) "
    }
   },
   "types_to_exclude": [
    "module",
    "function",
    "builtin_function_or_method",
    "instance",
    "_Feature"
   ],
   "window_display": false
  }
 },
 "nbformat": 4,
 "nbformat_minor": 4
}
